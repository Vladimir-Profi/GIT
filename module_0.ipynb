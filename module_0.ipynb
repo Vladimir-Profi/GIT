{
 "cells": [
  {
   "cell_type": "code",
   "execution_count": 21,
   "metadata": {},
   "outputs": [
    {
     "name": "stdout",
     "output_type": "stream",
     "text": [
      "Наш алгоритм угадывает число в среднем за 6 попыток\n"
     ]
    },
    {
     "data": {
      "text/plain": [
       "6"
      ]
     },
     "execution_count": 21,
     "metadata": {},
     "output_type": "execute_result"
    }
   ],
   "source": [
    "import numpy as np\n",
    "import math\n",
    "\n",
    "def game_core(\n",
    "    number,            # Число, которое нужно угадать\n",
    "    start_number = 1,  # Поиск числа начиная с числа\n",
    "    end_number = 101,  # Поиск числа заканчивая числом\n",
    "    ):\n",
    "        ''' Метод половинного деления\n",
    "        Приближаемся к искомому числу, с каждой итерацией деля на 2 расстояние между границами\n",
    "        Функция принимает загаданное число, граници и возвращает число попыток'''\n",
    "    \n",
    "        left_number = start_number # Определение левой граници поиска\n",
    "        right_number = end_number # Определение правой граници поиска\n",
    "\n",
    "        count = 0\n",
    "\n",
    "        while right_number - left_number > 1 :\n",
    "            average_number = (right_number + left_number) // 2\n",
    "\n",
    "            if average_number < number :\n",
    "                left_number = average_number\n",
    "            else :\n",
    "                right_number = average_number\n",
    "\n",
    "            count += 1\n",
    "\n",
    "        return count\n",
    "        \n",
    "        \n",
    "def score_game(\n",
    "    game_core, # Функция угадывающая число\n",
    "    start_number = 1, # Генерация случайных чисел начиная с числа\n",
    "    end_number = 101, # Генерация случайных чисел заканчивая числом\n",
    "    game_run_count = 1 # Количество запусков функции\n",
    "    ):\n",
    "        ''' Запускаем игру game_run_count раз, чтобы узнать, как быстро игра угадывает число '''\n",
    "        \n",
    "        ''' Фиксируем RANDOM SEED, чтобы наш эксперимент был воспроизводим! '''\n",
    "        np.random.seed(1)\n",
    "        \n",
    "        ''' Генерируем набор случайных чисел в заданных пределах '''        \n",
    "        random_array = np.random.randint(start_number, end_number, size=(game_run_count))\n",
    "        \n",
    "        ''' Вычисляем количество поисков для каждого числа '''        \n",
    "        count_ls = [game_core(number, start_number, end_number) for number in random_array]\n",
    "        \n",
    "        ''' Находим среднее количество попыток '''\n",
    "        score = int(np.mean(count_ls))\n",
    "        \n",
    "        print(f\"Наш алгоритм угадывает число в среднем за {score} попыток\")\n",
    "        return(score)\n",
    "\n",
    "score_game(game_core, start_number=1, end_number=101, game_run_count=100)"
   ]
  },
  {
   "cell_type": "code",
   "execution_count": null,
   "metadata": {},
   "outputs": [],
   "source": []
  },
  {
   "cell_type": "code",
   "execution_count": null,
   "metadata": {},
   "outputs": [],
   "source": []
  },
  {
   "cell_type": "code",
   "execution_count": null,
   "metadata": {},
   "outputs": [],
   "source": []
  },
  {
   "cell_type": "code",
   "execution_count": null,
   "metadata": {},
   "outputs": [],
   "source": []
  }
 ],
 "metadata": {
  "kernelspec": {
   "display_name": "Python 3",
   "language": "python",
   "name": "python3"
  },
  "language_info": {
   "codemirror_mode": {
    "name": "ipython",
    "version": 3
   },
   "file_extension": ".py",
   "mimetype": "text/x-python",
   "name": "python",
   "nbconvert_exporter": "python",
   "pygments_lexer": "ipython3",
   "version": "3.7.4"
  }
 },
 "nbformat": 4,
 "nbformat_minor": 2
}
